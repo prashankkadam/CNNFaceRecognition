{
  "nbformat": 4,
  "nbformat_minor": 0,
  "metadata": {
    "colab": {
      "name": "FaceRecognition.ipynb",
      "version": "0.3.2",
      "provenance": [],
      "collapsed_sections": [],
      "include_colab_link": true
    },
    "kernelspec": {
      "name": "python3",
      "display_name": "Python 3"
    }
  },
  "cells": [
    {
      "cell_type": "markdown",
      "metadata": {
        "id": "view-in-github",
        "colab_type": "text"
      },
      "source": [
        "<a href=\"https://colab.research.google.com/github/prashankkadam/CNNFaceRecognition/blob/master/FaceRecognition.ipynb\" target=\"_parent\"><img src=\"https://colab.research.google.com/assets/colab-badge.svg\" alt=\"Open In Colab\"/></a>"
      ]
    },
    {
      "cell_type": "markdown",
      "metadata": {
        "id": "1kBqCLM0eCn6",
        "colab_type": "text"
      },
      "source": [
        "## **Face Recognizer using pre-trained weights**"
      ]
    },
    {
      "cell_type": "markdown",
      "metadata": {
        "id": "pDYZQjSxePIr",
        "colab_type": "text"
      },
      "source": [
        "### **Importing libraries:**"
      ]
    },
    {
      "cell_type": "code",
      "metadata": {
        "id": "VwhKmiAfdeGG",
        "colab_type": "code",
        "colab": {}
      },
      "source": [
        "from keras.models import Sequential\n",
        "from keras.models import Model\n",
        "from keras.layers import Conv2D, ZeroPadding2D, Activation, Input\n",
        "from keras.layers.normalization import BatchNormalization\n",
        "from keras.layers.pooling import MaxPooling2D, AveragePooling2D\n",
        "from keras.layers.merge import Concatenate\n",
        "from keras.layers.core import Lambda, Flatten, Dense\n",
        "from keras.engine.topology import Layer\n",
        "from keras import backend as K\n",
        "import cv2\n",
        "import os\n",
        "import numpy as np\n",
        "from numpy import genfromtxt\n",
        "import pandas as pd\n",
        "import tensorflow as tf\n",
        "import utils \n",
        "from utils import LRN2D\n",
        "\n",
        "%load_ext autoreload\n",
        "%autoreload 2\n",
        "\n",
        "np.set_printoptions(threshold=np.nan)"
      ],
      "execution_count": 0,
      "outputs": []
    },
    {
      "cell_type": "markdown",
      "metadata": {
        "id": "-tvbzDkGgYmy",
        "colab_type": "text"
      },
      "source": [
        "### Constructing the model "
      ]
    },
    {
      "cell_type": "code",
      "metadata": {
        "id": "ttwuvUoWgYKa",
        "colab_type": "code",
        "colab": {}
      },
      "source": [
        "myInput = Input(shape=(96,96,3))\n",
        "\n",
        "x = ZeroPadding2D(padding=(3,3),input_shape=(96,96,3))(myInput)\n",
        "x = Conv2D(64,(7,7),strides=(2,2),name='conv1')(x)\n",
        "x = BatchNormalization(axis=3,epsilon=0.00001,name='bn1')(x)\n",
        "x = Activation('relu')(x)\n",
        "x = ZeroPadding2D(padding=(1,1))(x)\n",
        "x = MaxPooling2D(pool_size=3, strides=2)(x)\n",
        "x = Lambda(LRN2D,name='lrn_1')(x)\n",
        "x = Conv2D(64,(1,1),name='conv2')(x)\n",
        "x = BatchNormalization(axis=3,epsilon=0.00001,name='bn2')(x)\n",
        "x = Activation('relu')(x)\n",
        "x = ZeroPadding2D(padding=(1,1))(x)\n",
        "x = Conv2D(192,(3,3),name='conv3')(x)\n",
        "x = BatchNormalization(axis=3,epsilon=0.00001,name='bn3')(x)\n",
        "x = Activation('relu')(x)\n",
        "x = Lambda(LRN2D,name='lrn_2')(x)\n",
        "x = ZeroPadding2D(padding=(1,1))(x)\n",
        "x = MaxPooling2D(pool_size=3,strides=2)(x)\n",
        "\n",
        "# Inception 3a\n",
        "inception_3a_3x3 = Conv2D(96,(1,1),name='inception_3a_3x3_conv1')(x)\n",
        "inception_3a_3x3 = BatchNormalization(axis=3,epsilon=0.00001,name='inception_3a_3x3_bn1')(inception_3a_3x3)\n",
        "inception_3a_3x3 = Activation('relu')(inception_3a_3x3)\n",
        "inception_3a_3x3 = ZeroPadding2D(padding=(1,1))(inception_3a_3x3)\n",
        "inception_3a_3x3 = Conv2D(128,(3,3),name='inception_3a_3x3_conv2')(inception_3a_3x3)\n",
        "inception_3a_3x3 = BatchNormalization(axis=3,epsilon=0.00001,name='inception_3a_3x3_bn2')(inception_3a_3x3)\n",
        "inception_3a_3x3 = Activation('relu')(inception_3a_3x3)\n",
        "\n",
        "inception_3a_5x5 = Conv2D(16, (1, 1), name='inception_3a_5x5_conv1')(x)\n",
        "inception_3a_5x5 = BatchNormalization(axis=3, epsilon=0.00001, name='inception_3a_5x5_bn1')(inception_3a_5x5)\n",
        "inception_3a_5x5 = Activation('relu')(inception_3a_5x5)\n",
        "inception_3a_5x5 = ZeroPadding2D(padding=(2, 2))(inception_3a_5x5)\n",
        "inception_3a_5x5 = Conv2D(32, (5, 5), name='inception_3a_5x5_conv2')(inception_3a_5x5)\n",
        "inception_3a_5x5 = BatchNormalization(axis=3, epsilon=0.00001, name='inception_3a_5x5_bn2')(inception_3a_5x5)\n",
        "inception_3a_5x5 = Activation('relu')(inception_3a_5x5)\n",
        "\n",
        "inception_3a_pool = MaxPooling2D(pool_size=3, strides=2)(x)\n",
        "inception_3a_pool = Conv2D(32, (1, 1), name='inception_3a_pool_conv')(inception_3a_pool)\n",
        "inception_3a_pool = BatchNormalization(axis=3, epsilon=0.00001, name='inception_3a_pool_bn')(inception_3a_pool)\n",
        "inception_3a_pool = Activation('relu')(inception_3a_pool)\n",
        "inception_3a_pool = ZeroPadding2D(padding=((3, 4), (3, 4)))(inception_3a_pool)\n",
        "\n",
        "inception_3a_1x1 = Conv2D(64, (1, 1), name='inception_3a_1x1_conv')(x)\n",
        "inception_3a_1x1 = BatchNormalization(axis=3, epsilon=0.00001, name='inception_3a_1x1_bn')(inception_3a_1x1)\n",
        "inception_3a_1x1 = Activation('relu')(inception_3a_1x1)\n",
        "\n",
        "inception_3a = concatenate([inception_3a_3x3, inception_3a_5x5, inception_3a_pool, inception_3a_1x1], axis=3)\n",
        "\n",
        "# Inception3b\n",
        "inception_3b_3x3 = Conv2D(96, (1, 1), name='inception_3b_3x3_conv1')(inception_3a)\n",
        "inception_3b_3x3 = BatchNormalization(axis=3, epsilon=0.00001, name='inception_3b_3x3_bn1')(inception_3b_3x3)\n",
        "inception_3b_3x3 = Activation('relu')(inception_3b_3x3)\n",
        "inception_3b_3x3 = ZeroPadding2D(padding=(1, 1))(inception_3b_3x3)\n",
        "inception_3b_3x3 = Conv2D(128, (3, 3), name='inception_3b_3x3_conv2')(inception_3b_3x3)\n",
        "inception_3b_3x3 = BatchNormalization(axis=3, epsilon=0.00001, name='inception_3b_3x3_bn2')(inception_3b_3x3)\n",
        "inception_3b_3x3 = Activation('relu')(inception_3b_3x3)\n",
        "\n",
        "inception_3b_5x5 = Conv2D(32, (1, 1), name='inception_3b_5x5_conv1')(inception_3a)\n",
        "inception_3b_5x5 = BatchNormalization(axis=3, epsilon=0.00001, name='inception_3b_5x5_bn1')(inception_3b_5x5)\n",
        "inception_3b_5x5 = Activation('relu')(inception_3b_5x5)\n",
        "inception_3b_5x5 = ZeroPadding2D(padding=(2, 2))(inception_3b_5x5)\n",
        "inception_3b_5x5 = Conv2D(64, (5, 5), name='inception_3b_5x5_conv2')(inception_3b_5x5)\n",
        "inception_3b_5x5 = BatchNormalization(axis=3, epsilon=0.00001, name='inception_3b_5x5_bn2')(inception_3b_5x5)\n",
        "inception_3b_5x5 = Activation('relu')(inception_3b_5x5)\n",
        "\n",
        "inception_3b_pool = Lambda(lambda x: x**2, name='power2_3b')(inception_3a)\n",
        "inception_3b_pool = AveragePooling2D(pool_size=(3, 3), strides=(3, 3))(inception_3b_pool)\n",
        "inception_3b_pool = Lambda(lambda x: x*9, name='mult9_3b')(inception_3b_pool)\n",
        "inception_3b_pool = Lambda(lambda x: K.sqrt(x), name='sqrt_3b')(inception_3b_pool)\n",
        "inception_3b_pool = Conv2D(64, (1, 1), name='inception_3b_pool_conv')(inception_3b_pool)\n",
        "inception_3b_pool = BatchNormalization(axis=3, epsilon=0.00001, name='inception_3b_pool_bn')(inception_3b_pool)\n",
        "inception_3b_pool = Activation('relu')(inception_3b_pool)\n",
        "inception_3b_pool = ZeroPadding2D(padding=(4, 4))(inception_3b_pool)\n",
        "\n",
        "inception_3b_1x1 = Conv2D(64, (1, 1), name='inception_3b_1x1_conv')(inception_3a)\n",
        "inception_3b_1x1 = BatchNormalization(axis=3, epsilon=0.00001, name='inception_3b_1x1_bn')(inception_3b_1x1)\n",
        "inception_3b_1x1 = Activation('relu')(inception_3b_1x1)\n",
        "\n",
        "inception_3b = concatenate([inception_3b_3x3, inception_3b_5x5, inception_3b_pool, inception_3b_1x1], axis=3)\n",
        "\n",
        "# Inception3c\n",
        "inception_3c_3x3 = utils.conv2d_bn(inception_3b,\n",
        "                                   layer='inception_3c_3x3',\n",
        "                                   cv1_out=128,\n",
        "                                   cv1_filter=(1, 1),\n",
        "                                   cv2_out=256,\n",
        "                                   cv2_filter=(3, 3),\n",
        "                                   cv2_strides=(2, 2),\n",
        "                                   padding=(1, 1))\n",
        "\n",
        "inception_3c_5x5 = utils.conv2d_bn(inception_3b,\n",
        "                                   layer='inception_3c_5x5',\n",
        "                                   cv1_out=32,\n",
        "                                   cv1_filter=(1, 1),\n",
        "                                   cv2_out=64,\n",
        "                                   cv2_filter=(5, 5),\n",
        "                                   cv2_strides=(2, 2),\n",
        "                                   padding=(2, 2))\n",
        "\n",
        "inception_3c_pool = MaxPooling2D(pool_size=3, strides=2)(inception_3b)\n",
        "inception_3c_pool = ZeroPadding2D(padding=((0, 1), (0, 1)))(inception_3c_pool)\n",
        "\n",
        "inception_3c = concatenate([inception_3c_3x3, inception_3c_5x5, inception_3c_pool], axis=3)\n",
        "\n",
        "#inception 4a\n",
        "inception_4a_3x3 = utils.conv2d_bn(inception_3c,\n",
        "                                   layer='inception_4a_3x3',\n",
        "                                   cv1_out=96,\n",
        "                                   cv1_filter=(1, 1),\n",
        "                                   cv2_out=192,\n",
        "                                   cv2_filter=(3, 3),\n",
        "                                   cv2_strides=(1, 1),\n",
        "                                   padding=(1, 1))\n",
        "inception_4a_5x5 = utils.conv2d_bn(inception_3c,\n",
        "                                   layer='inception_4a_5x5',\n",
        "                                   cv1_out=32,\n",
        "                                   cv1_filter=(1, 1),\n",
        "                                   cv2_out=64,\n",
        "                                   cv2_filter=(5, 5),\n",
        "                                   cv2_strides=(1, 1),\n",
        "                                   padding=(2, 2))\n",
        "\n",
        "inception_4a_pool = Lambda(lambda x: x**2, name='power2_4a')(inception_3c)\n",
        "inception_4a_pool = AveragePooling2D(pool_size=(3, 3), strides=(3, 3))(inception_4a_pool)\n",
        "inception_4a_pool = Lambda(lambda x: x*9, name='mult9_4a')(inception_4a_pool)\n",
        "inception_4a_pool = Lambda(lambda x: K.sqrt(x), name='sqrt_4a')(inception_4a_pool)\n",
        "inception_4a_pool = utils.conv2d_bn(inception_4a_pool,\n",
        "                                   layer='inception_4a_pool',\n",
        "                                   cv1_out=128,\n",
        "                                   cv1_filter=(1, 1),\n",
        "                                   padding=(2, 2))\n",
        "inception_4a_1x1 = utils.conv2d_bn(inception_3c,\n",
        "                                   layer='inception_4a_1x1',\n",
        "                                   cv1_out=256,\n",
        "                                   cv1_filter=(1, 1))\n",
        "inception_4a = concatenate([inception_4a_3x3, inception_4a_5x5, inception_4a_pool, inception_4a_1x1], axis=3)\n",
        "\n",
        "#inception4e\n",
        "inception_4e_3x3 = utils.conv2d_bn(inception_4a,\n",
        "                                   layer='inception_4e_3x3',\n",
        "                                   cv1_out=160,\n",
        "                                   cv1_filter=(1, 1),\n",
        "                                   cv2_out=256,\n",
        "                                   cv2_filter=(3, 3),\n",
        "                                   cv2_strides=(2, 2),\n",
        "                                   padding=(1, 1))\n",
        "inception_4e_5x5 = utils.conv2d_bn(inception_4a,\n",
        "                                   layer='inception_4e_5x5',\n",
        "                                   cv1_out=64,\n",
        "                                   cv1_filter=(1, 1),\n",
        "                                   cv2_out=128,\n",
        "                                   cv2_filter=(5, 5),\n",
        "                                   cv2_strides=(2, 2),\n",
        "                                   padding=(2, 2))\n",
        "inception_4e_pool = MaxPooling2D(pool_size=3, strides=2)(inception_4a)\n",
        "inception_4e_pool = ZeroPadding2D(padding=((0, 1), (0, 1)))(inception_4e_pool)\n",
        "\n",
        "inception_4e = concatenate([inception_4e_3x3, inception_4e_5x5, inception_4e_pool], axis=3)\n",
        "\n",
        "#inception5a\n",
        "inception_5a_3x3 = utils.conv2d_bn(inception_4e,\n",
        "                                   layer='inception_5a_3x3',\n",
        "                                   cv1_out=96,\n",
        "                                   cv1_filter=(1, 1),\n",
        "                                   cv2_out=384,\n",
        "                                   cv2_filter=(3, 3),\n",
        "                                   cv2_strides=(1, 1),\n",
        "                                   padding=(1, 1))\n",
        "\n",
        "inception_5a_pool = Lambda(lambda x: x**2, name='power2_5a')(inception_4e)\n",
        "inception_5a_pool = AveragePooling2D(pool_size=(3, 3), strides=(3, 3))(inception_5a_pool)\n",
        "inception_5a_pool = Lambda(lambda x: x*9, name='mult9_5a')(inception_5a_pool)\n",
        "inception_5a_pool = Lambda(lambda x: K.sqrt(x), name='sqrt_5a')(inception_5a_pool)\n",
        "inception_5a_pool = utils.conv2d_bn(inception_5a_pool,\n",
        "                                   layer='inception_5a_pool',\n",
        "                                   cv1_out=96,\n",
        "                                   cv1_filter=(1, 1),\n",
        "                                   padding=(1, 1))\n",
        "inception_5a_1x1 = utils.conv2d_bn(inception_4e,\n",
        "                                   layer='inception_5a_1x1',\n",
        "                                   cv1_out=256,\n",
        "                                   cv1_filter=(1, 1))\n",
        "\n",
        "inception_5a = concatenate([inception_5a_3x3, inception_5a_pool, inception_5a_1x1], axis=3)\n",
        "\n",
        "#inception_5b\n",
        "inception_5b_3x3 = utils.conv2d_bn(inception_5a,\n",
        "                                   layer='inception_5b_3x3',\n",
        "                                   cv1_out=96,\n",
        "                                   cv1_filter=(1, 1),\n",
        "                                   cv2_out=384,\n",
        "                                   cv2_filter=(3, 3),\n",
        "                                   cv2_strides=(1, 1),\n",
        "                                   padding=(1, 1))\n",
        "inception_5b_pool = MaxPooling2D(pool_size=3, strides=2)(inception_5a)\n",
        "inception_5b_pool = utils.conv2d_bn(inception_5b_pool,\n",
        "                                   layer='inception_5b_pool',\n",
        "                                   cv1_out=96,\n",
        "                                   cv1_filter=(1, 1))\n",
        "inception_5b_pool = ZeroPadding2D(padding=(1, 1))(inception_5b_pool)\n",
        "\n",
        "inception_5b_1x1 = utils.conv2d_bn(inception_5a,\n",
        "                                   layer='inception_5b_1x1',\n",
        "                                   cv1_out=256,\n",
        "                                   cv1_filter=(1, 1))\n",
        "inception_5b = concatenate([inception_5b_3x3, inception_5b_pool, inception_5b_1x1], axis=3)\n",
        "\n",
        "av_pool = AveragePooling2D(pool_size=(3, 3), strides=(1, 1))(inception_5b)\n",
        "reshape_layer = Flatten()(av_pool)\n",
        "dense_layer = Dense(128, name='dense_layer')(reshape_layer)\n",
        "norm_layer = Lambda(lambda  x: K.l2_normalize(x, axis=1), name='norm_layer')(dense_layer)\n",
        "\n",
        "\n",
        "# Final Model\n",
        "model = Model(inputs=[myInput], outputs=norm_layer)"
      ],
      "execution_count": 0,
      "outputs": []
    },
    {
      "cell_type": "markdown",
      "metadata": {
        "id": "uVaxIMrnsNv1",
        "colab_type": "text"
      },
      "source": [
        "### **Loading the model with pre-trained weights**"
      ]
    },
    {
      "cell_type": "code",
      "metadata": {
        "id": "8m7DH5XRsTS0",
        "colab_type": "code",
        "colab": {}
      },
      "source": [
        "# Load Weights\n",
        "weights = utils.weights \n",
        "weights_dict = utils.load_weights()\n",
        "\n",
        "# Set layer weights for the model\n",
        "for name in weights:\n",
        "  if model.get_layer(name) != None:\n",
        "    model.get_layer(name).set_weights(weights_dict[name])\n",
        "  elif model.get_layer(name) != None:\n",
        "    model.get_layer(name).set_weights(weights_dict[name])  "
      ],
      "execution_count": 0,
      "outputs": []
    },
    {
      "cell_type": "markdown",
      "metadata": {
        "id": "tyGyR8EuztjC",
        "colab_type": "text"
      },
      "source": [
        "### Image to Embedding "
      ]
    },
    {
      "cell_type": "code",
      "metadata": {
        "id": "zo_V3amoz2mN",
        "colab_type": "code",
        "colab": {}
      },
      "source": [
        "def image_to_embedding(image,model):\n",
        "  image = cv2.resize(image,(96,96))\n",
        "  img = image[...,::-1]\n",
        "  img = np.around(np.transpose(img,(0,1,2))/255.0,decimals=12)\n",
        "  x_train=np.array([img])\n",
        "  embedding = model.predict_on_batch(x_train)\n",
        "  return embedding"
      ],
      "execution_count": 0,
      "outputs": []
    },
    {
      "cell_type": "markdown",
      "metadata": {
        "id": "0DGtaOp30pkC",
        "colab_type": "text"
      },
      "source": [
        "### **Recognize the face**"
      ]
    },
    {
      "cell_type": "code",
      "metadata": {
        "id": "NxaAMSUA0wQO",
        "colab_type": "code",
        "colab": {}
      },
      "source": [
        "def recognize_face(face_image,input_embeddings,model):\n",
        "  embedding = image_to_embedding(face_image,model)\n",
        "  minimum_distance = 200\n",
        "  name = None\n",
        "  \n",
        "  for(input_name,input_embedding) in input_embeddings.items():\n",
        "    euclidian_distance = np.linalg.norm(embedding-input_embedding)\n",
        "    print('Euclidean distance from %s is %s' %(input_name,euclidean_distance))\n",
        "    if euclidean_distance < minimum_distance:\n",
        "      minimum_distance = euclidean_distance\n",
        "      name = input_name\n",
        "      \n",
        "  if minimum_distance < 0.68:\n",
        "    return str(name)\n",
        "  else:\n",
        "    return None "
      ],
      "execution_count": 0,
      "outputs": []
    },
    {
      "cell_type": "markdown",
      "metadata": {
        "id": "MGx3UMwG4XTk",
        "colab_type": "text"
      },
      "source": [
        "### Runnning the face recognizer program "
      ]
    },
    {
      "cell_type": "code",
      "metadata": {
        "id": "RdDk1JGy0IEu",
        "colab_type": "code",
        "colab": {}
      },
      "source": [
        "input_embeddings = create_input_image_embeddings()\n",
        "recognize_faces_in_cam(input_embeddings)"
      ],
      "execution_count": 0,
      "outputs": []
    }
  ]
}